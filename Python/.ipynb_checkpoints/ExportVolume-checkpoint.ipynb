{
 "cells": [
  {
   "cell_type": "markdown",
   "metadata": {},
   "source": [
    "## Reading segY seismic files with obspy\n",
    "\n",
    "Corresponding obspy documentation can be found at:\n",
    "\n",
    "    https://docs.obspy.org/packages/autogen/obspy.io.segy.segy._read_segy.html\n",
    "\n",
    "Each file has a general form of T traces, where the i-th trace can be accessed in segyfile.traces[i]. Each trace has N samples that are accessed in segyfile.traces[i].data and the j-th data point is accessed in segyfile.traces[i].data[j]. N is such that $N = n\\Delta_y$, where $\\Delta_y$ is the is the size of the y-dimension."
   ]
  },
  {
   "cell_type": "code",
   "execution_count": 1,
   "metadata": {
    "collapsed": false
   },
   "outputs": [],
   "source": [
    "%matplotlib inline\n",
    "import matplotlib.pyplot as plt\n",
    "import matplotlib.image as mpimg\n",
    "import numpy as np\n",
    "\n",
    "from PIL import Image\n",
    "from obspy.io.segy import segy\n",
    "import urllib\n",
    "import numpy as np"
   ]
  },
  {
   "cell_type": "markdown",
   "metadata": {
    "collapsed": false
   },
   "source": [
    "Reading the data:"
   ]
  },
  {
   "cell_type": "code",
   "execution_count": 2,
   "metadata": {
    "collapsed": true
   },
   "outputs": [],
   "source": [
    "segyfile = segy._read_segy('/Users/mviana/Documents/IBMProjects/Seismic/SegY2TifConv/PSDM_IL1500_2600_XL_3100_6500_time.sgy')"
   ]
  },
  {
   "cell_type": "code",
   "execution_count": 180,
   "metadata": {
    "collapsed": true
   },
   "outputs": [],
   "source": [
    "def CropAndEqualize(mtraces):\n",
    "    mtraces = mtraces[600:1500,:]\n",
    "    mtraces[mtraces<-3E4] = -3E4\n",
    "    mtraces[mtraces>+3E4] = +3E4\n",
    "    mtraces = 255*(mtraces-np.min(mtraces))/(np.max(mtraces)-np.min(mtraces))\n",
    "    mtraces = mtraces.astype(np.uint8)\n",
    "    return mtraces"
   ]
  },
  {
   "cell_type": "code",
   "execution_count": 182,
   "metadata": {
    "collapsed": false
   },
   "outputs": [],
   "source": [
    "ntraces  = 3401\n",
    "nsamples = len(segyfile.traces[0].data)\n",
    "nimages  = round(len(segyfile.traces)/ntraces)\n",
    "mtraces  = np.zeros((nsamples, ntraces))\n",
    "\n",
    "nimages  = 1000\n",
    "\n",
    "for image in range(nimages):\n",
    "    for trace in range(ntraces):\n",
    "        mtraces[:,trace] = segyfile.traces[trace+(image*ntraces)].data\n",
    "    FileName = '/Users/mviana/Documents/IBMProjects/Seismic/SegY2TifConv/volume/Image' + str(image).zfill(4) + '.tif'\n",
    "    Image.fromarray(CropAndEqualize(mtraces)).save(FileName)"
   ]
  },
  {
   "cell_type": "code",
   "execution_count": null,
   "metadata": {
    "collapsed": true
   },
   "outputs": [],
   "source": []
  }
 ],
 "metadata": {
  "kernelspec": {
   "display_name": "Python 3",
   "language": "python",
   "name": "python3"
  },
  "language_info": {
   "codemirror_mode": {
    "name": "ipython",
    "version": 3
   },
   "file_extension": ".py",
   "mimetype": "text/x-python",
   "name": "python",
   "nbconvert_exporter": "python",
   "pygments_lexer": "ipython3",
   "version": "3.5.0"
  }
 },
 "nbformat": 4,
 "nbformat_minor": 0
}
