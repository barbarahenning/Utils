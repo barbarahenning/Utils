{
 "cells": [
  {
   "cell_type": "code",
   "execution_count": 3,
   "metadata": {
    "collapsed": false
   },
   "outputs": [],
   "source": [
    "from alchemyapi import AlchemyAPI\n",
    "alchemyapi = AlchemyAPI()"
   ]
  },
  {
   "cell_type": "code",
   "execution_count": 4,
   "metadata": {
    "collapsed": false
   },
   "outputs": [],
   "source": [
    "myText = \"https://sites.google.com/site/vianamp/\"\n",
    "response = alchemyapi.entities(\"url\", myText)"
   ]
  },
  {
   "cell_type": "code",
   "execution_count": 5,
   "metadata": {
    "collapsed": false
   },
   "outputs": [
    {
     "data": {
      "text/plain": [
       "[{'count': '1',\n",
       "  'disambiguated': {'dbpedia': 'http://dbpedia.org/resource/University_of_São_Paulo',\n",
       "   'freebase': 'http://rdf.freebase.com/ns/m.02q5jc',\n",
       "   'name': 'University of São Paulo',\n",
       "   'subType': ['Location',\n",
       "    'AcademicInstitution',\n",
       "    'CollegeUniversity',\n",
       "    'University'],\n",
       "   'website': 'http://www.usp.br/',\n",
       "   'yago': 'http://yago-knowledge.org/resource/University_of_S%C3%A3o_Paulo'},\n",
       "  'relevance': '0.882143',\n",
       "  'text': 'University of São Paulo',\n",
       "  'type': 'Organization'},\n",
       " {'count': '1',\n",
       "  'relevance': '0.793624',\n",
       "  'text': 'Federal University of São',\n",
       "  'type': 'Organization'},\n",
       " {'count': '1',\n",
       "  'relevance': '0.719367',\n",
       "  'text': 'Modelling\\xa0Geographical Biological Networks',\n",
       "  'type': 'PrintMedia'},\n",
       " {'count': '2',\n",
       "  'disambiguated': {'ciaFactbook': 'http://www4.wiwiss.fu-berlin.de/factbook/resource/Brazil',\n",
       "   'dbpedia': 'http://dbpedia.org/resource/Brazil',\n",
       "   'freebase': 'http://rdf.freebase.com/ns/m.015fr',\n",
       "   'geo': '-15.75 -47.95',\n",
       "   'name': 'Brazil',\n",
       "   'opencyc': 'http://sw.opencyc.org/concept/Mx4rvViPAZwpEbGdrcN5Y29ycA',\n",
       "   'subType': ['Location', 'GovernmentalJurisdiction', 'CompanyShareholder'],\n",
       "   'yago': 'http://yago-knowledge.org/resource/Brazil'},\n",
       "  'relevance': '0.649057',\n",
       "  'text': 'Brazil',\n",
       "  'type': 'Country'},\n",
       " {'count': '2',\n",
       "  'relevance': '0.646618',\n",
       "  'text': 'Image processing',\n",
       "  'type': 'FieldTerminology'},\n",
       " {'count': '1',\n",
       "  'relevance': '0.628338',\n",
       "  'text': 'Spatial Networks',\n",
       "  'type': 'Company'},\n",
       " {'count': '1',\n",
       "  'relevance': '0.602978',\n",
       "  'text': 'Developmental and Cell Biology Department',\n",
       "  'type': 'JobTitle'},\n",
       " {'count': '1',\n",
       "  'relevance': '0.588071',\n",
       "  'text': 'Dr.\\xa0 Susanne Rafelski',\n",
       "  'type': 'Person'},\n",
       " {'count': '1',\n",
       "  'disambiguated': {'dbpedia': 'http://dbpedia.org/resource/University_of_California,_Irvine',\n",
       "   'freebase': 'http://rdf.freebase.com/ns/m.0c5x_',\n",
       "   'geo': '33.64535 -117.84264166666667',\n",
       "   'name': 'University of California, Irvine',\n",
       "   'subType': ['CollegeUniversity', 'University'],\n",
       "   'website': 'http://www.uci.edu',\n",
       "   'yago': 'http://yago-knowledge.org/resource/University_of_California,_Irvine'},\n",
       "  'relevance': '0.585727',\n",
       "  'text': 'University of California Irvine',\n",
       "  'type': 'Organization'},\n",
       " {'count': '1',\n",
       "  'relevance': '0.538118',\n",
       "  'text': 'Computational Physics',\n",
       "  'type': 'Degree'},\n",
       " {'count': '1',\n",
       "  'relevance': '0.523716',\n",
       "  'text': 'Dr.\\xa0 Luciano',\n",
       "  'type': 'Person'},\n",
       " {'count': '1',\n",
       "  'relevance': '0.470306',\n",
       "  'text': 'Fontoura Costa',\n",
       "  'type': 'GeographicFeature'}]"
      ]
     },
     "execution_count": 5,
     "metadata": {},
     "output_type": "execute_result"
    }
   ],
   "source": [
    "response['entities']"
   ]
  },
  {
   "cell_type": "code",
   "execution_count": null,
   "metadata": {
    "collapsed": true
   },
   "outputs": [],
   "source": []
  }
 ],
 "metadata": {
  "kernelspec": {
   "display_name": "Python 3",
   "language": "python",
   "name": "python3"
  },
  "language_info": {
   "codemirror_mode": {
    "name": "ipython",
    "version": 3
   },
   "file_extension": ".py",
   "mimetype": "text/x-python",
   "name": "python",
   "nbconvert_exporter": "python",
   "pygments_lexer": "ipython3",
   "version": "3.5.0"
  }
 },
 "nbformat": 4,
 "nbformat_minor": 0
}
